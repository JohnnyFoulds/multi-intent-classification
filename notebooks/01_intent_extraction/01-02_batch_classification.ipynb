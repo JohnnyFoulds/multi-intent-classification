{
 "cells": [
  {
   "cell_type": "markdown",
   "metadata": {},
   "source": [
    "# 01-02 : Batch Classification\n",
    "\n",
    "In this notebook we uses a LLM (as shown in `01-01_classification_test.ipynb`) to perform batch classifications on the customer review dataset selected in `00-01_data_preparation.ipynb`."
   ]
  },
  {
   "cell_type": "code",
   "execution_count": 1,
   "metadata": {},
   "outputs": [],
   "source": [
    "%load_ext autoreload\n",
    "%autoreload 2"
   ]
  },
  {
   "cell_type": "code",
   "execution_count": 2,
   "metadata": {},
   "outputs": [],
   "source": [
    "import os\n",
    "import sys\n",
    "\n",
    "sys.path.append(os.path.abspath(\"../../src\"))"
   ]
  },
  {
   "cell_type": "code",
   "execution_count": 3,
   "metadata": {},
   "outputs": [],
   "source": [
    "import pandas as pd\n",
    "from pprint import pprint\n",
    "from IPython.display import display, Markdown\n",
    "from tqdm.notebook import tqdm\n",
    "\n",
    "from langchain_core.language_models.llms import BaseLLM\n",
    "from langchain_community.llms import Ollama\n",
    "import service.classification as classification"
   ]
  },
  {
   "cell_type": "code",
   "execution_count": 4,
   "metadata": {},
   "outputs": [],
   "source": [
    "data_path = '../../data'\n",
    "input_path = f'{data_path}/hellopeter'\n",
    "output_path = f'{data_path}/intent_extraction'\n",
    "\n",
    "input_file = f'{input_path}/00-01_vodacom_selected_reviews.parquet.gz'"
   ]
  },
  {
   "cell_type": "markdown",
   "metadata": {},
   "source": [
    "## Load Data"
   ]
  },
  {
   "cell_type": "code",
   "execution_count": 5,
   "metadata": {},
   "outputs": [
    {
     "name": "stdout",
     "output_type": "stream",
     "text": [
      "(5218, 3)\n"
     ]
    },
    {
     "data": {
      "text/html": [
       "<div>\n",
       "<style scoped>\n",
       "    .dataframe tbody tr th:only-of-type {\n",
       "        vertical-align: middle;\n",
       "    }\n",
       "\n",
       "    .dataframe tbody tr th {\n",
       "        vertical-align: top;\n",
       "    }\n",
       "\n",
       "    .dataframe thead th {\n",
       "        text-align: right;\n",
       "    }\n",
       "</style>\n",
       "<table border=\"1\" class=\"dataframe\">\n",
       "  <thead>\n",
       "    <tr style=\"text-align: right;\">\n",
       "      <th></th>\n",
       "      <th>id</th>\n",
       "      <th>review_title</th>\n",
       "      <th>review_content</th>\n",
       "    </tr>\n",
       "  </thead>\n",
       "  <tbody>\n",
       "    <tr>\n",
       "      <th>1155</th>\n",
       "      <td>4348368</td>\n",
       "      <td>OPPO watches not available</td>\n",
       "      <td>The OPPO watches gets advertised in all your new booklets but everyone just shrugs their shoulders and say there are no stock!!!!</td>\n",
       "    </tr>\n",
       "    <tr>\n",
       "      <th>3454</th>\n",
       "      <td>4125567</td>\n",
       "      <td>Vodawhat? Power to who?</td>\n",
       "      <td>Why is it that when one calls **********4 and select speak to a consultant someone literally answers the call 9am-09h30 9 Oct 2022 and doesn't talk and because i kept trying i am now barred from the call-center. Is this a plot for client retentions when i just want to cancel something that doesn't suit my budget or a disgruntled employee that wants to avoid penalties for call abandonment so they answer and do not talk Zippoing the system?</td>\n",
       "    </tr>\n",
       "    <tr>\n",
       "      <th>7</th>\n",
       "      <td>4491103</td>\n",
       "      <td>Pathetic Service!</td>\n",
       "      <td>We cancelled a business contract and ask Vodacom to migrate the to prepaid. This was supposed to be done at the end of June. Vodacom did the migration before the time and I am now unable to use my cellphone number which is the only number my clients has to contact me on at the moment. I am unable to visit a Vodacom store today to Rica number. Which means that my clients are unable to contact me, when I called the Vodacom customer care line the consultant was rude and sarcastic. What pathetic service!!!!</td>\n",
       "    </tr>\n",
       "  </tbody>\n",
       "</table>\n",
       "</div>"
      ],
      "text/plain": [
       "           id                review_title  \\\n",
       "1155  4348368  OPPO watches not available   \n",
       "3454  4125567     Vodawhat? Power to who?   \n",
       "7     4491103           Pathetic Service!   \n",
       "\n",
       "                                                                                                                                                                                                                                                                                                                                                                                                                                                                                                                    review_content  \n",
       "1155                                                                                                                                                                                                                                                                                                                                                                                             The OPPO watches gets advertised in all your new booklets but everyone just shrugs their shoulders and say there are no stock!!!!  \n",
       "3454                                                                    Why is it that when one calls **********4 and select speak to a consultant someone literally answers the call 9am-09h30 9 Oct 2022 and doesn't talk and because i kept trying i am now barred from the call-center. Is this a plot for client retentions when i just want to cancel something that doesn't suit my budget or a disgruntled employee that wants to avoid penalties for call abandonment so they answer and do not talk Zippoing the system?  \n",
       "7     We cancelled a business contract and ask Vodacom to migrate the to prepaid. This was supposed to be done at the end of June. Vodacom did the migration before the time and I am now unable to use my cellphone number which is the only number my clients has to contact me on at the moment. I am unable to visit a Vodacom store today to Rica number. Which means that my clients are unable to contact me, when I called the Vodacom customer care line the consultant was rude and sarcastic. What pathetic service!!!!  "
      ]
     },
     "metadata": {},
     "output_type": "display_data"
    }
   ],
   "source": [
    "df_input = pd.read_parquet(input_file)\n",
    "\n",
    "print(df_input.shape)\n",
    "with pd.option_context('display.max_colwidth', None):\n",
    "    display(df_input.sample(3))"
   ]
  },
  {
   "cell_type": "markdown",
   "metadata": {},
   "source": [
    "## Create LLM "
   ]
  },
  {
   "cell_type": "code",
   "execution_count": 6,
   "metadata": {},
   "outputs": [],
   "source": [
    "# create the client\n",
    "llm = Ollama(\n",
    "    model=\"mistral\",\n",
    "    top_p=0.001,\n",
    "    temperature=0.001,\n",
    "    num_predict=512)"
   ]
  },
  {
   "cell_type": "code",
   "execution_count": 7,
   "metadata": {},
   "outputs": [
    {
     "data": {
      "text/markdown": [
       "## Review"
      ],
      "text/plain": [
       "<IPython.core.display.Markdown object>"
      ]
     },
     "metadata": {},
     "output_type": "display_data"
    },
    {
     "data": {
      "text/markdown": [
       "**Poor signal. Worse service.**\n",
       "\n",
       "I was incorrectly billed R900 for Summer VC I did not purchase.\n",
       "\n",
       "Two seperate official complaints laid...the last one 10 days ago and no one response\n",
       "\n",
       "Not acceptable."
      ],
      "text/plain": [
       "<IPython.core.display.Markdown object>"
      ]
     },
     "metadata": {},
     "output_type": "display_data"
    },
    {
     "data": {
      "text/markdown": [
       "## Response"
      ],
      "text/plain": [
       "<IPython.core.display.Markdown object>"
      ]
     },
     "metadata": {},
     "output_type": "display_data"
    },
    {
     "data": {
      "text/markdown": [
       " I'm sorry to hear that you have experienced both a billing error and poor customer service in regards to your complaint about being incorrectly billed R900 for a Summer VC that you did not purchase. I understand how frustrating it can be to not receive a response after laying official complaints, especially when the issue is important to you.\n",
       "\n",
       "I would suggest reaching out to the company's customer support team once again, this time through a different channel such as social media or email if phone support has been unresponsive. Be sure to include all relevant details of your complaint and any previous correspondence with their team. You may also want to consider escalating the issue to a supervisor or manager if necessary.\n",
       "\n",
       "Additionally, you can file a complaint with the relevant consumer protection agency in your country for further investigation if the company continues to ignore your concerns. Remember to keep records of all communication with the company and any related documents, as this will be helpful during the investigation process.\n",
       "\n",
       "I hope that these suggestions help resolve the issue and improve your experience with the company's customer service. If you have any other questions or need further assistance, please don't hesitate to ask."
      ],
      "text/plain": [
       "<IPython.core.display.Markdown object>"
      ]
     },
     "metadata": {},
     "output_type": "display_data"
    }
   ],
   "source": [
    "# ensure that the client is working\n",
    "review = df_input.iloc[2588] \n",
    "review_content = \"**%s**\\n\\n%s\" % (\n",
    "    review['review_title'], \n",
    "    review['review_content'])\n",
    "\n",
    "display(Markdown(\"## Review\"))\n",
    "display(Markdown(review_content))\n",
    "\n",
    "display(Markdown(\"## Response\"))\n",
    "display(Markdown(llm.invoke(review_content)))"
   ]
  },
  {
   "cell_type": "markdown",
   "metadata": {},
   "source": [
    "## Functions"
   ]
  },
  {
   "cell_type": "markdown",
   "metadata": {},
   "source": [
    "### Classification"
   ]
  },
  {
   "cell_type": "code",
   "execution_count": 8,
   "metadata": {},
   "outputs": [],
   "source": [
    "# # test problematic review\n",
    "# problem_text = '**Vodacom ***** not taken seriously**\\n\\n@vodacom I CANT BELIEVE YOU GUYS DO NOT TAKE ***** SERIOUSLY... I have emailed **************** and called ********** & ********** phones are not being answered do not get any responses.FFS 🤬'\n",
    "# display(Markdown(problem_text))\n",
    "# display(Markdown(llm.invoke(problem_text)))\n",
    "\n",
    "# print(classification.get_classification(problem_text, llm))"
   ]
  },
  {
   "cell_type": "code",
   "execution_count": 9,
   "metadata": {},
   "outputs": [],
   "source": [
    "def classify_review(id:str, title:str, content:str, llm:BaseLLM):\n",
    "    result = pd.DataFrame()\n",
    "\n",
    "    # combine the title and content\n",
    "    review_content = f\"**{title}**\\n\\n{content}\"\n",
    "\n",
    "    # classify the review\n",
    "    response = classification.get_classification(\n",
    "        text=review_content,\n",
    "        llm=llm)\n",
    "    \n",
    "    # convert the response to a dataframe\n",
    "    if response is not None:\n",
    "        result = pd.DataFrame(response.dict()[\"categories\"])\n",
    "        result['id'] = id\n",
    "    \n",
    "    return result\n",
    "\n",
    "# ## test the function\n",
    "# classify_review(\n",
    "#     id=review['id'],\n",
    "#     title=review['review_title'],\n",
    "#     content=review['review_content'],\n",
    "#     llm=llm\n",
    "# )"
   ]
  },
  {
   "cell_type": "markdown",
   "metadata": {},
   "source": [
    "### Process Batch"
   ]
  },
  {
   "cell_type": "code",
   "execution_count": 10,
   "metadata": {},
   "outputs": [],
   "source": [
    "def process_batch(df, batch_num:int, start_index:int, llm:BaseLLM, batch_size:int=32):\n",
    "    global output_path\n",
    "    df_result = pd.DataFrame()\n",
    "\n",
    "    # select the rows in the batch\n",
    "    end_index = start_index + batch_size\n",
    "    batch = df.iloc[start_index:end_index]\n",
    "\n",
    "    # perform the classifications\n",
    "    for index, row in tqdm(batch.iterrows(), total=batch_size, leave=False):\n",
    "        df_result = pd.concat([\n",
    "            df_result,\n",
    "            classify_review(\n",
    "                id=row['id'],\n",
    "                title=row['review_title'],\n",
    "                content=row['review_content'],\n",
    "                llm=llm)\n",
    "        ])\n",
    "\n",
    "    # save the classifications    \n",
    "    df_result.to_parquet(\n",
    "        f'{output_path}/batch_{batch_num+1:05}.parquet.gz',\n",
    "        index=False,\n",
    "        compression='gzip')\n",
    "\n",
    "    return end_index\n",
    "\n",
    "# ## test the function\n",
    "# start_index = process_batch(df_input, 0, 0, llm, 5)\n",
    "# pd.read_parquet(f'{output_path}/batch_00001.parquet.gz')"
   ]
  },
  {
   "cell_type": "markdown",
   "metadata": {},
   "source": [
    "### Process Data"
   ]
  },
  {
   "cell_type": "code",
   "execution_count": 11,
   "metadata": {},
   "outputs": [],
   "source": [
    "def process_data(df, llm:BaseLLM, start_batch_num:int=0, batch_size:int=32):\n",
    "    start_index = start_batch_num * batch_size\n",
    "    batch_num = start_batch_num\n",
    "\n",
    "    pbar = tqdm(total=len(df)//batch_size)\n",
    "    while start_index < len(df):\n",
    "        try:\n",
    "            start_index = process_batch(\n",
    "                df=df, \n",
    "                batch_num=batch_num, \n",
    "                start_index=start_index, \n",
    "                llm=llm, \n",
    "                batch_size=batch_size)\n",
    "            batch_num += 1\n",
    "            pbar.update(1)\n",
    "        except Exception as e:\n",
    "            print(f'Error processing batch {batch_num}')\n",
    "            raise e\n",
    "        \n",
    "    pbar.close()\n",
    "\n",
    "# ## test the function\n",
    "# df_test = df_input.sample(6)\n",
    "# process_data(df=df_test, llm=llm, batch_size=2)\n",
    "\n",
    "# display(pd.read_parquet(f'{output_path}/batch_00001.parquet.gz'))\n",
    "# display(pd.read_parquet(f'{output_path}/batch_00002.parquet.gz'))\n",
    "# display(pd.read_parquet(f'{output_path}/batch_00003.parquet.gz'))"
   ]
  },
  {
   "cell_type": "markdown",
   "metadata": {},
   "source": [
    "## Classify Dataset\n",
    "\n",
    "Classify the input dataset in batches."
   ]
  },
  {
   "cell_type": "code",
   "execution_count": null,
   "metadata": {},
   "outputs": [],
   "source": [
    "process_data(df=df_input, llm=llm, batch_size=100, start_batch_num=0)"
   ]
  }
 ],
 "metadata": {
  "kernelspec": {
   "display_name": "multi-intent",
   "language": "python",
   "name": "python3"
  },
  "language_info": {
   "codemirror_mode": {
    "name": "ipython",
    "version": 3
   },
   "file_extension": ".py",
   "mimetype": "text/x-python",
   "name": "python",
   "nbconvert_exporter": "python",
   "pygments_lexer": "ipython3",
   "version": "3.10.13"
  }
 },
 "nbformat": 4,
 "nbformat_minor": 2
}
