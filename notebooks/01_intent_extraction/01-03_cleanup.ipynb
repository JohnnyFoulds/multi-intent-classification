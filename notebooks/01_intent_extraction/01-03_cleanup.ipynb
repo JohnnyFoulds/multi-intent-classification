{
 "cells": [
  {
   "cell_type": "markdown",
   "metadata": {},
   "source": [
    "# 01-03 : Intent Cleanup\n",
    "\n",
    "The intents extracted using the Mistral LLM might not exactly match the original category definitions. This notebook is used to clean up the intents as much as possible to match the intents in the dataset."
   ]
  },
  {
   "cell_type": "code",
   "execution_count": 1,
   "metadata": {},
   "outputs": [],
   "source": [
    "%load_ext autoreload\n",
    "%autoreload 2"
   ]
  },
  {
   "cell_type": "code",
   "execution_count": 2,
   "metadata": {},
   "outputs": [],
   "source": [
    "import os\n",
    "import sys\n",
    "\n",
    "sys.path.append(os.path.abspath(\"../../src\"))"
   ]
  },
  {
   "cell_type": "code",
   "execution_count": 3,
   "metadata": {},
   "outputs": [],
   "source": [
    "import glob\n",
    "import pandas as pd\n",
    "from typing import List, Tuple\n",
    "\n",
    "import llm.classification as llm_classification"
   ]
  },
  {
   "cell_type": "code",
   "execution_count": 4,
   "metadata": {},
   "outputs": [],
   "source": [
    "data_path = '../../data'\n",
    "\n",
    "class_data_path = f'{data_path}/intent_extraction'\n",
    "class_data_ext = 'parquet.gz'\n",
    "\n",
    "output_path = f'{data_path}/multiclass_model'\n",
    "output_file = f'{output_path}/01-03_intents.parquet.gz'"
   ]
  },
  {
   "cell_type": "markdown",
   "metadata": {},
   "source": [
    "## 1. Load Data"
   ]
  },
  {
   "cell_type": "markdown",
   "metadata": {},
   "source": [
    "Load the classifications generated with the Large Language Model (LLM)."
   ]
  },
  {
   "cell_type": "code",
   "execution_count": 5,
   "metadata": {},
   "outputs": [
    {
     "name": "stdout",
     "output_type": "stream",
     "text": [
      "(10327, 5)\n"
     ]
    },
    {
     "data": {
      "text/html": [
       "<div>\n",
       "<style scoped>\n",
       "    .dataframe tbody tr th:only-of-type {\n",
       "        vertical-align: middle;\n",
       "    }\n",
       "\n",
       "    .dataframe tbody tr th {\n",
       "        vertical-align: top;\n",
       "    }\n",
       "\n",
       "    .dataframe thead th {\n",
       "        text-align: right;\n",
       "    }\n",
       "</style>\n",
       "<table border=\"1\" class=\"dataframe\">\n",
       "  <thead>\n",
       "    <tr style=\"text-align: right;\">\n",
       "      <th></th>\n",
       "      <th>category</th>\n",
       "      <th>reason</th>\n",
       "      <th>relevance</th>\n",
       "      <th>sentiment</th>\n",
       "      <th>id</th>\n",
       "    </tr>\n",
       "  </thead>\n",
       "  <tbody>\n",
       "    <tr>\n",
       "      <th>33</th>\n",
       "      <td>Cancellation</td>\n",
       "      <td>The text mentions 'cancelled the contract' and 'they didn't cancel my contract'.</td>\n",
       "      <td>1.0</td>\n",
       "      <td>negative</td>\n",
       "      <td>3950516</td>\n",
       "    </tr>\n",
       "    <tr>\n",
       "      <th>34</th>\n",
       "      <td>Fraud</td>\n",
       "      <td>The text uses the term 'scam' and 'fraudsters' to describe Vodacom.</td>\n",
       "      <td>1.0</td>\n",
       "      <td>negative</td>\n",
       "      <td>3950516</td>\n",
       "    </tr>\n",
       "    <tr>\n",
       "      <th>32</th>\n",
       "      <td>Response</td>\n",
       "      <td>The text describes the customer's frustration with not receiving any feedback or response from Vodacom's legal department despite following up multiple times.</td>\n",
       "      <td>1.0</td>\n",
       "      <td>negative</td>\n",
       "      <td>3950535</td>\n",
       "    </tr>\n",
       "    <tr>\n",
       "      <th>29</th>\n",
       "      <td>Billing</td>\n",
       "      <td>The text mentions that an amount was debited from the account twice.</td>\n",
       "      <td>1.0</td>\n",
       "      <td>negative</td>\n",
       "      <td>3950575</td>\n",
       "    </tr>\n",
       "    <tr>\n",
       "      <th>30</th>\n",
       "      <td>Cancellation</td>\n",
       "      <td>The text expresses the intent to cancel all contracts with Vodacom due to the billing issue.</td>\n",
       "      <td>1.0</td>\n",
       "      <td>negative</td>\n",
       "      <td>3950575</td>\n",
       "    </tr>\n",
       "    <tr>\n",
       "      <th>31</th>\n",
       "      <td>Customer's Feeling</td>\n",
       "      <td>The text contains a negative sentiment towards Vodacom.</td>\n",
       "      <td>0.5</td>\n",
       "      <td>negative</td>\n",
       "      <td>3950575</td>\n",
       "    </tr>\n",
       "  </tbody>\n",
       "</table>\n",
       "</div>"
      ],
      "text/plain": [
       "              category  \\\n",
       "33        Cancellation   \n",
       "34               Fraud   \n",
       "32            Response   \n",
       "29             Billing   \n",
       "30        Cancellation   \n",
       "31  Customer's Feeling   \n",
       "\n",
       "                                                                                                                                                            reason  \\\n",
       "33                                                                                The text mentions 'cancelled the contract' and 'they didn't cancel my contract'.   \n",
       "34                                                                                             The text uses the term 'scam' and 'fraudsters' to describe Vodacom.   \n",
       "32  The text describes the customer's frustration with not receiving any feedback or response from Vodacom's legal department despite following up multiple times.   \n",
       "29                                                                                            The text mentions that an amount was debited from the account twice.   \n",
       "30                                                                    The text expresses the intent to cancel all contracts with Vodacom due to the billing issue.   \n",
       "31                                                                                                         The text contains a negative sentiment towards Vodacom.   \n",
       "\n",
       "    relevance sentiment       id  \n",
       "33        1.0  negative  3950516  \n",
       "34        1.0  negative  3950516  \n",
       "32        1.0  negative  3950535  \n",
       "29        1.0  negative  3950575  \n",
       "30        1.0  negative  3950575  \n",
       "31        0.5  negative  3950575  "
      ]
     },
     "metadata": {},
     "output_type": "display_data"
    }
   ],
   "source": [
    "df_class = pd.concat(\n",
    "    [pd.read_parquet(f) for f in glob.glob(\n",
    "        f'{class_data_path}/*.{class_data_ext}')\n",
    "    ]) \\\n",
    "    .sort_values(['id', 'category'])\n",
    "\n",
    "print(df_class.shape)\n",
    "with pd.option_context('display.max_colwidth', None):\n",
    "    display(df_class.head(6))"
   ]
  },
  {
   "cell_type": "markdown",
   "metadata": {},
   "source": [
    "Load the category definitions from the JSONL configuration file."
   ]
  },
  {
   "cell_type": "code",
   "execution_count": 6,
   "metadata": {},
   "outputs": [
    {
     "name": "stdout",
     "output_type": "stream",
     "text": [
      "Number of Categories: 19\n",
      "\n",
      "['Abuse' 'Account Management' 'Billing' 'Brand' 'Call Center'\n",
      " 'Cancellation' \"Customer's Feeling\" 'Devices' 'Network Coverage' 'Other'\n",
      " 'Policy' 'Price Plans' 'Products' 'Resolution' 'Response' 'SIM' 'Service'\n",
      " 'Services' 'Staff Level']\n"
     ]
    }
   ],
   "source": [
    "# load the category definitions\n",
    "category_def = llm_classification.load_category_definitions()\n",
    "category_def = pd.DataFrame(category_def)\n",
    "\n",
    "# get a list of the valid categories\n",
    "categories = category_def['name'].unique()\n",
    "categories.sort()\n",
    "\n",
    "print(f'Number of Categories: {len(categories)}\\n')\n",
    "print(categories)\n"
   ]
  },
  {
   "cell_type": "markdown",
   "metadata": {},
   "source": [
    "## 2. Intent Analysis"
   ]
  },
  {
   "cell_type": "markdown",
   "metadata": {},
   "source": [
    "### 2.1 New Categories\n",
    "\n",
    "Find the categories that were extracted, but not present in the original category definitions."
   ]
  },
  {
   "cell_type": "code",
   "execution_count": 7,
   "metadata": {},
   "outputs": [],
   "source": [
    "def get_new_categories(df:pd.DataFrame, categories:List) -> List:\n",
    "    new_categories = df['category'].unique()\n",
    "    new_categories = [c for c in new_categories if c not in categories]\n",
    "    new_categories.sort()\n",
    "\n",
    "    return new_categories"
   ]
  },
  {
   "cell_type": "code",
   "execution_count": 8,
   "metadata": {},
   "outputs": [
    {
     "name": "stdout",
     "output_type": "stream",
     "text": [
      "Number of New Categories: 417\n",
      "\n"
     ]
    }
   ],
   "source": [
    "# find the new categories\n",
    "new_categories = get_new_categories(df_class, categories) \n",
    "print(f'Number of New Categories: {len(new_categories)}\\n')"
   ]
  },
  {
   "cell_type": "code",
   "execution_count": 9,
   "metadata": {},
   "outputs": [
    {
     "name": "stdout",
     "output_type": "stream",
     "text": [
      "['Abuse (Fraud)', 'Abuse (Harassment)', 'Abuse - Unprofessional behavior', 'Account Management (Activation/Deactivation)', 'Account Management (Billing)', 'Account Management (Cancellation Enquiry or Lost/Stolen Device)', 'Account Management (Cancellation Enquiry)', 'Account Management (Cancellation)', 'Account Management (Change Account Details)', 'Account Management (Change of MSISDN)', 'Account Management (Contract Enquiry, Communication)', 'Account Management (Contract)', 'Account Management (Customer Service Response Time)', 'Account Management (Fraud)', 'Account Management (MSISDN change or activation)', 'Account Management (MSISDN change)', 'Account Management (Payment Issue)', 'Account Management (Relocations, Installation, Cancellation)', 'Account Management (Resolution)', 'Account Management (Transfer of Ownership)']\n"
     ]
    }
   ],
   "source": [
    "# show the first 20 new categories\n",
    "print(new_categories[:20])"
   ]
  },
  {
   "cell_type": "markdown",
   "metadata": {},
   "source": [
    "### 2.2 Prefix Matching\n",
    "Replace new categories with a category from the list, if a category is not in this predefined list, and if the lowercase of an original category matches the prefix of the lowercase of this new category."
   ]
  },
  {
   "cell_type": "code",
   "execution_count": 10,
   "metadata": {},
   "outputs": [],
   "source": [
    "def replace_categories(original_category, valid_categories):\n",
    "    # If the original category is in the valid categories, return it\n",
    "    if original_category in valid_categories:\n",
    "        return original_category\n",
    "\n",
    "    # If the lowercase of the original category matches the prefix of the lowercase of a valid category, return the valid category\n",
    "    for valid_category in valid_categories:\n",
    "        if original_category.lower().startswith(valid_category.lower()):\n",
    "            return valid_category\n",
    "\n",
    "    # If no match is found, return the original category\n",
    "    return original_category\n",
    "\n",
    "# Apply the function to the 'category' column \n",
    "df_mapped = df_class.copy()\n",
    "df_mapped['category'] = df_mapped['category'].apply(lambda x: replace_categories(x, categories))"
   ]
  },
  {
   "cell_type": "code",
   "execution_count": 11,
   "metadata": {},
   "outputs": [
    {
     "name": "stdout",
     "output_type": "stream",
     "text": [
      "Number of New Categories: 115\n",
      "\n"
     ]
    }
   ],
   "source": [
    "# find the new categories\n",
    "new_categories = get_new_categories(df_mapped, categories) \n",
    "print(f'Number of New Categories: {len(new_categories)}\\n')"
   ]
  },
  {
   "cell_type": "markdown",
   "metadata": {},
   "source": [
    "### 2.3 Qualifier Matching\n",
    "\n",
    "Replace new categories with a category from the list, if a category is not in this predefined list, and if the lowercase of an original category appears in round brackets in lowercase of this new category."
   ]
  },
  {
   "cell_type": "code",
   "execution_count": 12,
   "metadata": {},
   "outputs": [],
   "source": [
    "def replace_qualifiers(original_category, valid_categories):\n",
    "    # If the original category is in the valid categories, return it\n",
    "    if original_category in valid_categories:\n",
    "        return original_category\n",
    "\n",
    "    # If the lowercase of the original category matches the prefix of the lowercase of a valid category, return the valid category\n",
    "    for valid_category in valid_categories:\n",
    "        if f'({valid_category.lower()})' in original_category.lower():\n",
    "            return valid_category\n",
    "\n",
    "    # If no match is found, return the original category\n",
    "    return original_category\n",
    "\n",
    "# Apply the function to the 'category' column \n",
    "df_mapped['category'] = df_mapped['category'].apply(lambda x: replace_qualifiers(x, categories))"
   ]
  },
  {
   "cell_type": "code",
   "execution_count": 13,
   "metadata": {},
   "outputs": [
    {
     "name": "stdout",
     "output_type": "stream",
     "text": [
      "Number of New Categories: 107\n",
      "\n"
     ]
    }
   ],
   "source": [
    "# find the new categories\n",
    "new_categories = get_new_categories(df_mapped, categories) \n",
    "print(f'Number of New Categories: {len(new_categories)}\\n')"
   ]
  },
  {
   "cell_type": "markdown",
   "metadata": {},
   "source": [
    "### 2.4 Manual Category Mapping\n",
    "\n",
    "Manually map the extracted categories to the original categories."
   ]
  },
  {
   "cell_type": "code",
   "execution_count": 14,
   "metadata": {},
   "outputs": [],
   "source": [
    "def show_new_category_counts(df:pd.DataFrame, new_categories:List, top:int=20) -> None:\n",
    "    new_category_rows = df[df_class['category'].isin(new_categories)]\n",
    "    print(new_category_rows.category.value_counts().head(top))"
   ]
  },
  {
   "cell_type": "code",
   "execution_count": 15,
   "metadata": {},
   "outputs": [
    {
     "name": "stdout",
     "output_type": "stream",
     "text": [
      "category\n",
      "Customer Feeling                121\n",
      "Customer Service                100\n",
      "Delivery Enquiry                 60\n",
      "Fraud                            33\n",
      "Insurance                        21\n",
      "Complaint                        20\n",
      "Contract                         15\n",
      "Communication                    13\n",
      "Sales Enquiry                    11\n",
      "Loadshedding                      8\n",
      "Customer Feeling (Negative)       6\n",
      "Data Bundle Enquiry               6\n",
      "Customer Feeling (Not Happy)      6\n",
      "Charge Dispute                    4\n",
      "Payment                           4\n",
      "Upgrade Enquiry                   3\n",
      "Vodacom Shop                      2\n",
      "Customer Service/Call Center      2\n",
      "Breach of Contract                2\n",
      "Handset Enquiry                   2\n",
      "Name: count, dtype: int64\n"
     ]
    }
   ],
   "source": [
    "show_new_category_counts(df_mapped, new_categories)"
   ]
  },
  {
   "cell_type": "code",
   "execution_count": 16,
   "metadata": {},
   "outputs": [],
   "source": [
    "category_map = category_map = {\n",
    "    \"Customer Feeling\": \"Customer's Feeling\",\n",
    "    \"Customer Feeling (Negative)\": \"Customer's Feeling\",\n",
    "    \"Customer Feeling (Not Happy)\": \"Customer's Feeling\",\n",
    "    \"Customer Feeling (Frustration)\": \"Customer's Feeling\",\n",
    "    \"Customer Feeling (optional)\": \"Customer's Feeling\",\n",
    "    \"Customer Feeling (Dissatisfaction)\": \"Customer's Feeling\",\n",
    "    \"Customer Feeling (Disappointing Service\": \"Customer's Feeling\",\n",
    "    \"Customer Feeling (Positive)\": \"Customer's Feeling\", \n",
    "    \"Customer Feeling (Disappointing Service)\": \"Customer's Feeling\",  \n",
    "    \"Customer Service\": \"Call Center\",\n",
    "    \"Vodacom Service (or Customer Service)\": \"Call Center\",\n",
    "    \"Customer Care enquiry\": \"Call Center\",\n",
    "    \"Customer Service enquiry\": \"Call Center\",\n",
    "    \"Customer Service > Call Center Interaction\": \"Call Center\",\n",
    "    \"Customer Service - Positive Feedback\": \"Call Center\",\n",
    "    \"Customer Service - Call Center\": \"Call Center\",\n",
    "    \"Customer Service (Call Center or Shop)\": \"Call Center\",\n",
    "    \"Communication or Assistance & Helpfulness\": \"Call Center\",\n",
    "    \"Customer Service (poor)\": \"Call Center\",\n",
    "    \"Customer Service / Resolution\": \"Call Center\",\n",
    "    \"Customer Service > Products > Data Bundle Enquiry > Issue with purchased data > Incorrect information provided by Vodacom\": \"Call Center\",\n",
    "    \"Customer Service (Call Center or Customer Care enquiry)\": \"Call Center\",\n",
    "    \"Customer Service Enquiry\": \"Call Center\",\n",
    "    \"Customer Service (or Response)\": \"Response\",\n",
    "    \"Customer Service or Response\": \"Response\",\n",
    "    \"Customer Experience > Complaint > Phone Repair\": \"Call Center\",\n",
    "    \"Customer Experience (specifically, Renewal or Upgrade process)\": \"Call Center\", \n",
    "    \"Device\": \"Devices\",\n",
    "    \"Delivery Enquiry\": \"Devices\", # require new category\n",
    "    \"Delivery or Logistics\": \"Devices\", \n",
    "    \"Delivery Enquiry or Logistics/Delivery\": \"Devices\", \n",
    "    \"Delivery Enquiry (under Devices category\": \"Devices\",\n",
    "    \"Delivery Enquiry or Logistics\": \"Devices\",\n",
    "    \"Delivery Enquiry (under Devices category)\": \"Devices\",\n",
    "    \"Fraud\": \"Policy\",\n",
    "    \"Insurance\": \"Devices\",\n",
    "    \"Complaint\": \"Other\",\n",
    "    \"Contract\": \"Products\",\n",
    "    \"Contracts\": \"Products\",\n",
    "    \"Communication\": \"Other\",\n",
    "    \"Sales Enquiry\": \"Staff Level\",\n",
    "    \"Sales Enquiry or Product Purchase\": \"Staff Level\",\n",
    "    \"Loadshedding\": \"Network Coverage\",\n",
    "    \"Load Shedding\": \"Network Coverage\",\n",
    "    \"Data Bundle Enquiry\": \"Products\",\n",
    "    \"Charge Dispute\": \"Billing\",\n",
    "    \"Unauthorized Charges\": \"Billing\",\n",
    "    \"Payment\": \"Billing\",\n",
    "    \"Payment Arrangement\": \"Billing\",\n",
    "    \"Refund\": \"Billing\",\n",
    "    \"Upgrade Enquiry\": \"Devices\",\n",
    "    \"Vodacom Shop\": \"Staff Level\",\n",
    "    \"Shop/Store\": \"Staff Level\",\n",
    "    \"Shop Experience\": \"Staff Level\",\n",
    "    \"Staff\": \"Staff Level\",\n",
    "    \"Customer Service/Call Center\": \"Call Center\",\n",
    "    \"Breach of Contract\": \"Policy\",\n",
    "    \"Handset Enquiry\": \"Devices\",\n",
    "    \"Marketing\": \"Staff Level\",\n",
    "    \"Sales Enquiry (or Unwanted Calls)\": \"Staff Level\",\n",
    "    \"Repair - Complaint\": \"Devices\",\n",
    "    \"Efficiency\": \"Staff Level\",\n",
    "    \"Data Usage\": \"Products\",\n",
    "    \"Promotions or Offers\": \"Products\",\n",
    "    \"Marketing/Promotions\": \"Products\",\n",
    "    \"Promotions or Campaigns\": \"Products\",\n",
    "    \"Activation\": \"SIM\",\n",
    "    \"Email Communication\": \"Other\",\n",
    "    \"Security or Account Management\": \"Billing\",\n",
    "    \"Refund Enquiry\": \"Billing\",\n",
    "    \"Promotions\": \"Products\",\n",
    "    \"Insurance: Vodacom Insurance\": \"Devices\",\n",
    "    \"Returns\": \"Devices\",\n",
    "    \"Crisis\": \"Other\",\n",
    "    \"Security\": \"Policy\",\n",
    "    \"Security or Privacy\": \"Policy\",\n",
    "    \"Privacy\": \"Policy\",\n",
    "    \"Security/Privacy\": \"Policy\",\n",
    "    \"Ethics\": \"Policy\",\n",
    "    \"Urgent Requests\": \"Other\",\n",
    "    \"Complaint / Resolution\": \"Resolution\",\n",
    "    \"Customer Service > Call Center > Unresolved Support Tickets\": \"Resolution\",\n",
    "    \"Unwanted Services or Products\": \"Products\",\n",
    "    \"Vouchers/Rewards\": \"Products\",\n",
    "    \"Rewards Program\": \"Products\",\n",
    "    \"Customer Service - Resolution\": \"Resolution\",\n",
    "    \"Communication or Assistance & Helpfulness\": \"Staff Level\",\n",
    "    \"Customer Satisfaction\": \"Staff Level\",\n",
    "    \"Poor Customer Service\": \"Staff Level\",\n",
    "    \"Online Service\": \"Services\",\n",
    "    \"Online Services\": \"Services\",\n",
    "    \"Online Services > Upgrade Enquiry\": \"Services\",\n",
    "    \"Online Services (Website)\": \"Services\",\n",
    "    \"Vodacom Online\": \"Services\",\n",
    "    \"User Experience (Website)\": \"Services\",\n",
    "    \"Vodacom Repair - Complaint\": \"Devices\",\n",
    "    \"Installation and Repairs\": \"Devices\",\n",
    "    \"Advertising and Marketing - Misrepresentation\": \"Products\",\n",
    "    \"Application Process\": \"Services\",\n",
    "    \"Reliability\": \"Network Coverage\",\n",
    "    \"Internet\": \"Network Coverage\",\n",
    "    \"Messaging (SMS)\": \"Products\",\n",
    "    \"SMS\": \"Products\",\n",
    "    \"Online Sales\": \"Services\",\n",
    "    \"Fibre\": \"Devices\",\n",
    "    \"Repair\": \"Devices\",\n",
    "    \"Unwanted\": \"Other\",\n",
    "    \"Business\": \"Other\",\n",
    "    \"Misinformation\": \"Other\",\n",
    "    \"Email Service\": \"Other\",\n",
    "}"
   ]
  },
  {
   "cell_type": "code",
   "execution_count": 17,
   "metadata": {},
   "outputs": [],
   "source": [
    "# # sort the category_map by the values\n",
    "# category_map = dict(sorted(category_map.items(), key=lambda item: item[1]))\n",
    "\n",
    "# import json\n",
    "# category_map_json = json.dumps(category_map, indent=4)\n",
    "# print(category_map_json)\n"
   ]
  },
  {
   "cell_type": "code",
   "execution_count": 18,
   "metadata": {},
   "outputs": [],
   "source": [
    "def map_categories(df:pd.DataFrame, category_map:dict) -> pd.DataFrame:\n",
    "    \"\"\"Use the caregory_map to replace categories in the dataframe\"\"\"\n",
    "    df_mapped = df.copy()\n",
    "    df_mapped['category'] = df_mapped['category'].replace(category_map)\n",
    "    return df_mapped\n"
   ]
  },
  {
   "cell_type": "code",
   "execution_count": 19,
   "metadata": {},
   "outputs": [
    {
     "name": "stdout",
     "output_type": "stream",
     "text": [
      "Number of New Categories: 0\n",
      "\n",
      "Series([], Name: count, dtype: int64)\n"
     ]
    }
   ],
   "source": [
    "# map the categories using the updated category map\n",
    "df_mapped = map_categories(df_mapped, category_map)\n",
    "\n",
    "# find the new categories\n",
    "new_categories = get_new_categories(df_mapped, categories)\n",
    "\n",
    "# print the number of new categories\n",
    "print(f'Number of New Categories: {len(new_categories)}\\n')\n",
    "\n",
    "# show the first 50 new categories\n",
    "show_new_category_counts(df_mapped, new_categories, top=50)"
   ]
  },
  {
   "cell_type": "markdown",
   "metadata": {},
   "source": [
    "## Save Data"
   ]
  },
  {
   "cell_type": "code",
   "execution_count": 20,
   "metadata": {},
   "outputs": [],
   "source": [
    "df_mapped.drop_duplicates(inplace=True)\n",
    "df_mapped.to_parquet(output_file, compression='gzip')"
   ]
  }
 ],
 "metadata": {
  "kernelspec": {
   "display_name": "multi-intent",
   "language": "python",
   "name": "python3"
  },
  "language_info": {
   "codemirror_mode": {
    "name": "ipython",
    "version": 3
   },
   "file_extension": ".py",
   "mimetype": "text/x-python",
   "name": "python",
   "nbconvert_exporter": "python",
   "pygments_lexer": "ipython3",
   "version": "3.10.13"
  }
 },
 "nbformat": 4,
 "nbformat_minor": 2
}
