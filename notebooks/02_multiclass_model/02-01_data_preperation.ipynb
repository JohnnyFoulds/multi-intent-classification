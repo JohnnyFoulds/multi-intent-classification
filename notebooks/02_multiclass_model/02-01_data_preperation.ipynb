{
 "cells": [
  {
   "cell_type": "markdown",
   "metadata": {},
   "source": [
    "# 02-01 : Data Preparation\n",
    "\n",
    "Use the dataset created in `01-03_cleanup.ipynb` to create a new dataset that can be used for training a keras multi-label text classification model.\n",
    "\n",
    "## References\n",
    "\n",
    "- [Large-scale multi-label text classification](https://keras.io/examples/nlp/multi_label_classification/)"
   ]
  },
  {
   "cell_type": "code",
   "execution_count": 1,
   "metadata": {},
   "outputs": [],
   "source": [
    "import glob\n",
    "import pandas as pd"
   ]
  },
  {
   "cell_type": "code",
   "execution_count": 2,
   "metadata": {},
   "outputs": [],
   "source": [
    "data_path = '../../data'\n",
    "orig_data_path = f'{data_path}/hellopeter'\n",
    "orig_file = f'{orig_data_path}/00-01_vodacom_selected_reviews.parquet.gz'\n",
    "\n",
    "class_data_path = f'{data_path}/multiclass_model'\n",
    "class_data_file = f'{class_data_path}/01-03_intents.parquet.gz'\n",
    "\n",
    "output_path = f'{data_path}/multiclass_model'\n",
    "output_file = f'{output_path}/02-01_flat_intents.parquet.gz'"
   ]
  },
  {
   "cell_type": "markdown",
   "metadata": {},
   "source": [
    "## Load Data"
   ]
  },
  {
   "cell_type": "markdown",
   "metadata": {},
   "source": [
    "Load the original dataset selected in `00-01_data_preparation.ipynb`."
   ]
  },
  {
   "cell_type": "code",
   "execution_count": 3,
   "metadata": {},
   "outputs": [
    {
     "name": "stdout",
     "output_type": "stream",
     "text": [
      "(5218, 3)\n"
     ]
    },
    {
     "data": {
      "text/html": [
       "<div>\n",
       "<style scoped>\n",
       "    .dataframe tbody tr th:only-of-type {\n",
       "        vertical-align: middle;\n",
       "    }\n",
       "\n",
       "    .dataframe tbody tr th {\n",
       "        vertical-align: top;\n",
       "    }\n",
       "\n",
       "    .dataframe thead th {\n",
       "        text-align: right;\n",
       "    }\n",
       "</style>\n",
       "<table border=\"1\" class=\"dataframe\">\n",
       "  <thead>\n",
       "    <tr style=\"text-align: right;\">\n",
       "      <th></th>\n",
       "      <th>id</th>\n",
       "      <th>review_title</th>\n",
       "      <th>review_content</th>\n",
       "    </tr>\n",
       "  </thead>\n",
       "  <tbody>\n",
       "    <tr>\n",
       "      <th>5217</th>\n",
       "      <td>3950516</td>\n",
       "      <td>Vodacom fraudster</td>\n",
       "      <td>Vodacom is a scam! Never ever take, a contract  with those people. I had a, contract ending end October. End August I called them and cancelled the contract. I was suprised to find myself at credit bureau while I was looking for a house bond. They didn't cancel my contract. I call them, the system shows I indeed cancel the contract but they don't know why t wasn't cancelled. They are taking me from pillar to post and my life is at a, standstill. Fraudsters</td>\n",
       "    </tr>\n",
       "    <tr>\n",
       "      <th>5216</th>\n",
       "      <td>3950535</td>\n",
       "      <td>bad service</td>\n",
       "      <td>still awating any feedback from vodacom legal department ant the email address  of DCA Hammond Pole, so that I can forward him all the mails to vodacom that has not been responded by Vodacom, and as stated two times allready, I dont have my number any more so cant phone the DCA, the messages has also been ignored by Vodacom</td>\n",
       "    </tr>\n",
       "    <tr>\n",
       "      <th>5215</th>\n",
       "      <td>3950575</td>\n",
       "      <td>Vodacom is useless!!!</td>\n",
       "      <td>Good day\\n\\nAgain, vodacom did not do their jobs. The amount went off as I explicitly asked for it not to. Vodacom now owes me R300 as it has been debited from my account twice now. I will be taking this to social media now. And I want to please cancel all my contracts with vodacom.</td>\n",
       "    </tr>\n",
       "  </tbody>\n",
       "</table>\n",
       "</div>"
      ],
      "text/plain": [
       "           id           review_title  \\\n",
       "5217  3950516      Vodacom fraudster   \n",
       "5216  3950535            bad service   \n",
       "5215  3950575  Vodacom is useless!!!   \n",
       "\n",
       "                                                                                                                                                                                                                                                                                                                                                                                                                                                                    review_content  \n",
       "5217  Vodacom is a scam! Never ever take, a contract  with those people. I had a, contract ending end October. End August I called them and cancelled the contract. I was suprised to find myself at credit bureau while I was looking for a house bond. They didn't cancel my contract. I call them, the system shows I indeed cancel the contract but they don't know why t wasn't cancelled. They are taking me from pillar to post and my life is at a, standstill. Fraudsters  \n",
       "5216                                                                                                                                         still awating any feedback from vodacom legal department ant the email address  of DCA Hammond Pole, so that I can forward him all the mails to vodacom that has not been responded by Vodacom, and as stated two times allready, I dont have my number any more so cant phone the DCA, the messages has also been ignored by Vodacom  \n",
       "5215                                                                                                                                                                                   Good day\\n\\nAgain, vodacom did not do their jobs. The amount went off as I explicitly asked for it not to. Vodacom now owes me R300 as it has been debited from my account twice now. I will be taking this to social media now. And I want to please cancel all my contracts with vodacom.  "
      ]
     },
     "metadata": {},
     "output_type": "display_data"
    }
   ],
   "source": [
    "df_orig = pd.read_parquet(orig_file) \\\n",
    "    .sort_values('id')\n",
    "\n",
    "print(df_orig.shape)\n",
    "with pd.option_context('display.max_colwidth', None):\n",
    "    display(df_orig.head(3))"
   ]
  },
  {
   "cell_type": "markdown",
   "metadata": {},
   "source": [
    "Load the classifications generated with the Large Language Model (LLM)."
   ]
  },
  {
   "cell_type": "code",
   "execution_count": 4,
   "metadata": {},
   "outputs": [
    {
     "name": "stdout",
     "output_type": "stream",
     "text": [
      "(10327, 5)\n"
     ]
    },
    {
     "data": {
      "text/html": [
       "<div>\n",
       "<style scoped>\n",
       "    .dataframe tbody tr th:only-of-type {\n",
       "        vertical-align: middle;\n",
       "    }\n",
       "\n",
       "    .dataframe tbody tr th {\n",
       "        vertical-align: top;\n",
       "    }\n",
       "\n",
       "    .dataframe thead th {\n",
       "        text-align: right;\n",
       "    }\n",
       "</style>\n",
       "<table border=\"1\" class=\"dataframe\">\n",
       "  <thead>\n",
       "    <tr style=\"text-align: right;\">\n",
       "      <th></th>\n",
       "      <th>category</th>\n",
       "      <th>reason</th>\n",
       "      <th>relevance</th>\n",
       "      <th>sentiment</th>\n",
       "      <th>id</th>\n",
       "    </tr>\n",
       "  </thead>\n",
       "  <tbody>\n",
       "    <tr>\n",
       "      <th>33</th>\n",
       "      <td>Cancellation</td>\n",
       "      <td>The text mentions 'cancelled the contract' and 'they didn't cancel my contract'.</td>\n",
       "      <td>1.0</td>\n",
       "      <td>negative</td>\n",
       "      <td>3950516</td>\n",
       "    </tr>\n",
       "    <tr>\n",
       "      <th>34</th>\n",
       "      <td>Policy</td>\n",
       "      <td>The text uses the term 'scam' and 'fraudsters' to describe Vodacom.</td>\n",
       "      <td>1.0</td>\n",
       "      <td>negative</td>\n",
       "      <td>3950516</td>\n",
       "    </tr>\n",
       "    <tr>\n",
       "      <th>32</th>\n",
       "      <td>Response</td>\n",
       "      <td>The text describes the customer's frustration with not receiving any feedback or response from Vodacom's legal department despite following up multiple times.</td>\n",
       "      <td>1.0</td>\n",
       "      <td>negative</td>\n",
       "      <td>3950535</td>\n",
       "    </tr>\n",
       "    <tr>\n",
       "      <th>29</th>\n",
       "      <td>Billing</td>\n",
       "      <td>The text mentions that an amount was debited from the account twice.</td>\n",
       "      <td>1.0</td>\n",
       "      <td>negative</td>\n",
       "      <td>3950575</td>\n",
       "    </tr>\n",
       "    <tr>\n",
       "      <th>30</th>\n",
       "      <td>Cancellation</td>\n",
       "      <td>The text expresses the intent to cancel all contracts with Vodacom due to the billing issue.</td>\n",
       "      <td>1.0</td>\n",
       "      <td>negative</td>\n",
       "      <td>3950575</td>\n",
       "    </tr>\n",
       "    <tr>\n",
       "      <th>31</th>\n",
       "      <td>Customer's Feeling</td>\n",
       "      <td>The text contains a negative sentiment towards Vodacom.</td>\n",
       "      <td>0.5</td>\n",
       "      <td>negative</td>\n",
       "      <td>3950575</td>\n",
       "    </tr>\n",
       "  </tbody>\n",
       "</table>\n",
       "</div>"
      ],
      "text/plain": [
       "              category  \\\n",
       "33        Cancellation   \n",
       "34              Policy   \n",
       "32            Response   \n",
       "29             Billing   \n",
       "30        Cancellation   \n",
       "31  Customer's Feeling   \n",
       "\n",
       "                                                                                                                                                            reason  \\\n",
       "33                                                                                The text mentions 'cancelled the contract' and 'they didn't cancel my contract'.   \n",
       "34                                                                                             The text uses the term 'scam' and 'fraudsters' to describe Vodacom.   \n",
       "32  The text describes the customer's frustration with not receiving any feedback or response from Vodacom's legal department despite following up multiple times.   \n",
       "29                                                                                            The text mentions that an amount was debited from the account twice.   \n",
       "30                                                                    The text expresses the intent to cancel all contracts with Vodacom due to the billing issue.   \n",
       "31                                                                                                         The text contains a negative sentiment towards Vodacom.   \n",
       "\n",
       "    relevance sentiment       id  \n",
       "33        1.0  negative  3950516  \n",
       "34        1.0  negative  3950516  \n",
       "32        1.0  negative  3950535  \n",
       "29        1.0  negative  3950575  \n",
       "30        1.0  negative  3950575  \n",
       "31        0.5  negative  3950575  "
      ]
     },
     "metadata": {},
     "output_type": "display_data"
    }
   ],
   "source": [
    "df_class = pd.read_parquet(class_data_file) \\\n",
    "    .sort_values(['id', 'category'])\n",
    "\n",
    "print(df_class.shape)\n",
    "with pd.option_context('display.max_colwidth', None):\n",
    "    display(df_class.head(6))"
   ]
  },
  {
   "cell_type": "markdown",
   "metadata": {},
   "source": [
    "## Flatten Classifications\n",
    "\n",
    "Flatten the classifications dataset to have a single row per id, where the multiple classifications for that id are placed in a list column."
   ]
  },
  {
   "cell_type": "code",
   "execution_count": 5,
   "metadata": {},
   "outputs": [
    {
     "name": "stdout",
     "output_type": "stream",
     "text": [
      "(5022, 4)\n"
     ]
    },
    {
     "data": {
      "text/html": [
       "<div>\n",
       "<style scoped>\n",
       "    .dataframe tbody tr th:only-of-type {\n",
       "        vertical-align: middle;\n",
       "    }\n",
       "\n",
       "    .dataframe tbody tr th {\n",
       "        vertical-align: top;\n",
       "    }\n",
       "\n",
       "    .dataframe thead th {\n",
       "        text-align: right;\n",
       "    }\n",
       "</style>\n",
       "<table border=\"1\" class=\"dataframe\">\n",
       "  <thead>\n",
       "    <tr style=\"text-align: right;\">\n",
       "      <th></th>\n",
       "      <th>id</th>\n",
       "      <th>category_list</th>\n",
       "      <th>relevance_list</th>\n",
       "      <th>sentiment_list</th>\n",
       "    </tr>\n",
       "  </thead>\n",
       "  <tbody>\n",
       "    <tr>\n",
       "      <th>0</th>\n",
       "      <td>3950516</td>\n",
       "      <td>[Cancellation, Policy]</td>\n",
       "      <td>[1.0, 1.0]</td>\n",
       "      <td>[negative, negative]</td>\n",
       "    </tr>\n",
       "    <tr>\n",
       "      <th>1</th>\n",
       "      <td>3950535</td>\n",
       "      <td>[Response]</td>\n",
       "      <td>[1.0]</td>\n",
       "      <td>[negative]</td>\n",
       "    </tr>\n",
       "    <tr>\n",
       "      <th>2</th>\n",
       "      <td>3950575</td>\n",
       "      <td>[Billing, Cancellation, Customer's Feeling]</td>\n",
       "      <td>[1.0, 1.0, 0.5]</td>\n",
       "      <td>[negative, negative, negative]</td>\n",
       "    </tr>\n",
       "    <tr>\n",
       "      <th>3</th>\n",
       "      <td>3950595</td>\n",
       "      <td>[Call Center, Customer's Feeling]</td>\n",
       "      <td>[1.0, 1.0]</td>\n",
       "      <td>[negative, negative]</td>\n",
       "    </tr>\n",
       "    <tr>\n",
       "      <th>4</th>\n",
       "      <td>3950626</td>\n",
       "      <td>[Billing, Policy]</td>\n",
       "      <td>[1.0, 1.0]</td>\n",
       "      <td>[negative, negative]</td>\n",
       "    </tr>\n",
       "  </tbody>\n",
       "</table>\n",
       "</div>"
      ],
      "text/plain": [
       "        id                                category_list   relevance_list  \\\n",
       "0  3950516                       [Cancellation, Policy]       [1.0, 1.0]   \n",
       "1  3950535                                   [Response]            [1.0]   \n",
       "2  3950575  [Billing, Cancellation, Customer's Feeling]  [1.0, 1.0, 0.5]   \n",
       "3  3950595            [Call Center, Customer's Feeling]       [1.0, 1.0]   \n",
       "4  3950626                            [Billing, Policy]       [1.0, 1.0]   \n",
       "\n",
       "                   sentiment_list  \n",
       "0            [negative, negative]  \n",
       "1                      [negative]  \n",
       "2  [negative, negative, negative]  \n",
       "3            [negative, negative]  \n",
       "4            [negative, negative]  "
      ]
     },
     "metadata": {},
     "output_type": "display_data"
    }
   ],
   "source": [
    "df_flatten = df_class \\\n",
    "    .sort_values(['id', 'category']) \\\n",
    "    .groupby('id') \\\n",
    "    .agg({\n",
    "        'category': list,\n",
    "        'relevance': list,\n",
    "        'sentiment': list\n",
    "    }) \\\n",
    "    .reset_index()\n",
    "\n",
    "df_flatten.columns = ['id', 'category_list', 'relevance_list', 'sentiment_list']\n",
    "df_flatten = df_flatten \\\n",
    "    .sort_values('id') \\\n",
    "    .reset_index(drop=True)\n",
    "\n",
    "print(df_flatten.shape)\n",
    "with pd.option_context('display.max_colwidth', None):\n",
    "    display(df_flatten.head(5))"
   ]
  },
  {
   "cell_type": "code",
   "execution_count": 6,
   "metadata": {},
   "outputs": [
    {
     "data": {
      "text/plain": [
       "category_list\n",
       "[Customer's Feeling, Network Coverage]      373\n",
       "[Billing, Customer's Feeling]               309\n",
       "[Billing, Cancellation]                     232\n",
       "[Call Center, Customer's Feeling]           201\n",
       "[Cancellation, Customer's Feeling]          156\n",
       "[Billing, Policy]                           133\n",
       "[Account Management, Customer's Feeling]    129\n",
       "[Customer's Feeling, Staff Level]           105\n",
       "[Customer's Feeling, Response]              105\n",
       "[Customer's Feeling, Devices]                97\n",
       "[Network Coverage, Resolution]               96\n",
       "[Cancellation, Policy]                       92\n",
       "[Account Management, Billing]                92\n",
       "[Customer's Feeling, Policy]                 89\n",
       "[Customer's Feeling, Resolution]             87\n",
       "[Billing, Response]                          77\n",
       "[Network Coverage, Response]                 76\n",
       "[Billing, Resolution]                        69\n",
       "[Call Center, Network Coverage]              68\n",
       "[Billing, Call Center]                       61\n",
       "Name: count, dtype: int64"
      ]
     },
     "execution_count": 6,
     "metadata": {},
     "output_type": "execute_result"
    }
   ],
   "source": [
    "df_flatten.category_list.value_counts().head(20)"
   ]
  },
  {
   "cell_type": "markdown",
   "metadata": {},
   "source": [
    "## Save Dataset\n",
    "\n",
    "Save the dataset to be used in model building."
   ]
  },
  {
   "cell_type": "code",
   "execution_count": 7,
   "metadata": {},
   "outputs": [],
   "source": [
    "df_flatten.to_parquet(output_file, compression='gzip')"
   ]
  }
 ],
 "metadata": {
  "kernelspec": {
   "display_name": "multi-intent",
   "language": "python",
   "name": "python3"
  },
  "language_info": {
   "codemirror_mode": {
    "name": "ipython",
    "version": 3
   },
   "file_extension": ".py",
   "mimetype": "text/x-python",
   "name": "python",
   "nbconvert_exporter": "python",
   "pygments_lexer": "ipython3",
   "version": "3.10.13"
  }
 },
 "nbformat": 4,
 "nbformat_minor": 2
}
