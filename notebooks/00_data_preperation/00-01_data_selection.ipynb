{
 "cells": [
  {
   "cell_type": "markdown",
   "metadata": {},
   "source": [
    "# 00-01 : Data Selection\n",
    "\n",
    "This project will use customer reviews/complaints scraped from the Hellopeter site between 2021 and 2023. This dataset was [created](https://github.com/JohnnyFoulds/dsm050-2023-apr/blob/master/notebooks/01_hellopeter/01-01_retrieve_data.ipynb) in another research project investigating:\n",
    "\n",
    "[Evaluating Customer Satisfaction and Preferences in the Telecommunications Industry: A Comparative Analysis of Survey Data and Online Reviews](https://github.com/JohnnyFoulds/dsm050-2023-apr/blob/master/notebooks/04_draft/04-04_cw02.ipynb)"
   ]
  },
  {
   "cell_type": "code",
   "execution_count": 1,
   "metadata": {},
   "outputs": [],
   "source": [
    "import pandas as pd\n",
    "import matplotlib.pyplot as plt"
   ]
  },
  {
   "cell_type": "code",
   "execution_count": 2,
   "metadata": {},
   "outputs": [],
   "source": [
    "data_path = '../../data/hellopeter'\n",
    "source_file = '01-02_reviews.parquet.gz'"
   ]
  },
  {
   "cell_type": "markdown",
   "metadata": {},
   "source": [
    "## Data Load"
   ]
  },
  {
   "cell_type": "code",
   "execution_count": 3,
   "metadata": {},
   "outputs": [
    {
     "name": "stdout",
     "output_type": "stream",
     "text": [
      "(93880, 28)\n"
     ]
    },
    {
     "data": {
      "text/html": [
       "<div>\n",
       "<style scoped>\n",
       "    .dataframe tbody tr th:only-of-type {\n",
       "        vertical-align: middle;\n",
       "    }\n",
       "\n",
       "    .dataframe tbody tr th {\n",
       "        vertical-align: top;\n",
       "    }\n",
       "\n",
       "    .dataframe thead th {\n",
       "        text-align: right;\n",
       "    }\n",
       "</style>\n",
       "<table border=\"1\" class=\"dataframe\">\n",
       "  <thead>\n",
       "    <tr style=\"text-align: right;\">\n",
       "      <th></th>\n",
       "      <th>0</th>\n",
       "      <th>1</th>\n",
       "      <th>2</th>\n",
       "    </tr>\n",
       "  </thead>\n",
       "  <tbody>\n",
       "    <tr>\n",
       "      <th>id</th>\n",
       "      <td>4527127</td>\n",
       "      <td>4527105</td>\n",
       "      <td>4526994</td>\n",
       "    </tr>\n",
       "    <tr>\n",
       "      <th>user_id</th>\n",
       "      <td>320a79a8-31fa-11e8-83f4-f23c91bb6188</td>\n",
       "      <td>6a44e350-9c25-11ea-9513-4b6a247180c8</td>\n",
       "      <td>2ad8a520-811e-11ed-9e3d-2143ef18dbd4</td>\n",
       "    </tr>\n",
       "    <tr>\n",
       "      <th>created_at</th>\n",
       "      <td>2023-07-24 14:01:29</td>\n",
       "      <td>2023-07-24 13:53:40</td>\n",
       "      <td>2023-07-24 13:10:31</td>\n",
       "    </tr>\n",
       "    <tr>\n",
       "      <th>authorDisplayName</th>\n",
       "      <td>Simphiwe N</td>\n",
       "      <td>erika H</td>\n",
       "      <td>Eulanda M</td>\n",
       "    </tr>\n",
       "    <tr>\n",
       "      <th>author</th>\n",
       "      <td>Simphiwe N</td>\n",
       "      <td>erika H</td>\n",
       "      <td>Eulanda M</td>\n",
       "    </tr>\n",
       "    <tr>\n",
       "      <th>authorAvatar</th>\n",
       "      <td></td>\n",
       "      <td></td>\n",
       "      <td></td>\n",
       "    </tr>\n",
       "    <tr>\n",
       "      <th>author_id</th>\n",
       "      <td>320a79a8-31fa-11e8-83f4-f23c91bb6188</td>\n",
       "      <td>6a44e350-9c25-11ea-9513-4b6a247180c8</td>\n",
       "      <td>2ad8a520-811e-11ed-9e3d-2143ef18dbd4</td>\n",
       "    </tr>\n",
       "    <tr>\n",
       "      <th>review_title</th>\n",
       "      <td>Out of bundle data eating up my airtime even a...</td>\n",
       "      <td>worst service - Vodacom.</td>\n",
       "      <td>Cancel Vodacom contract please. 😒</td>\n",
       "    </tr>\n",
       "    <tr>\n",
       "      <th>review_rating</th>\n",
       "      <td>1</td>\n",
       "      <td>1</td>\n",
       "      <td>1</td>\n",
       "    </tr>\n",
       "    <tr>\n",
       "      <th>review_content</th>\n",
       "      <td>Out of bundle services stopped working after I...</td>\n",
       "      <td>I have been a customer of Vodacom for more tha...</td>\n",
       "      <td>Now that Vodacom com collected  the router. No...</td>\n",
       "    </tr>\n",
       "    <tr>\n",
       "      <th>business_name</th>\n",
       "      <td>Vodacom</td>\n",
       "      <td>Vodacom</td>\n",
       "      <td>Vodacom</td>\n",
       "    </tr>\n",
       "    <tr>\n",
       "      <th>business_slug</th>\n",
       "      <td>vodacom</td>\n",
       "      <td>vodacom</td>\n",
       "      <td>vodacom</td>\n",
       "    </tr>\n",
       "    <tr>\n",
       "      <th>permalink</th>\n",
       "      <td>out-of-bundle-data-eating-up-my-airtime-even-a...</td>\n",
       "      <td>worst-service-vodacom-7437f3f707363ec746b86eb2...</td>\n",
       "      <td>cancel-vodacom-contract-please-4526994</td>\n",
       "    </tr>\n",
       "    <tr>\n",
       "      <th>replied</th>\n",
       "      <td>False</td>\n",
       "      <td>True</td>\n",
       "      <td>True</td>\n",
       "    </tr>\n",
       "    <tr>\n",
       "      <th>messages</th>\n",
       "      <td>[]</td>\n",
       "      <td>[{'body': '&lt;div&gt;Dear Customer,&amp;nbsp;&lt;/div&gt;&lt;div...</td>\n",
       "      <td>[{'body': '&lt;div&gt;Dear Customer,&amp;nbsp;&lt;/div&gt;&lt;div...</td>\n",
       "    </tr>\n",
       "    <tr>\n",
       "      <th>business_logo</th>\n",
       "      <td>https://s3-us-west-2.amazonaws.com/hp-cdn-01/u...</td>\n",
       "      <td>https://s3-us-west-2.amazonaws.com/hp-cdn-01/u...</td>\n",
       "      <td>https://s3-us-west-2.amazonaws.com/hp-cdn-01/u...</td>\n",
       "    </tr>\n",
       "    <tr>\n",
       "      <th>industry_logo</th>\n",
       "      <td>/static/img/industries/icons/telecommunication...</td>\n",
       "      <td>/static/img/industries/icons/telecommunication...</td>\n",
       "      <td>/static/img/industries/icons/telecommunication...</td>\n",
       "    </tr>\n",
       "    <tr>\n",
       "      <th>industry_name</th>\n",
       "      <td>Telecommunications</td>\n",
       "      <td>Telecommunications</td>\n",
       "      <td>Telecommunications</td>\n",
       "    </tr>\n",
       "    <tr>\n",
       "      <th>industry_slug</th>\n",
       "      <td>telecommunications</td>\n",
       "      <td>telecommunications</td>\n",
       "      <td>telecommunications</td>\n",
       "    </tr>\n",
       "    <tr>\n",
       "      <th>status_id</th>\n",
       "      <td>1</td>\n",
       "      <td>1</td>\n",
       "      <td>1</td>\n",
       "    </tr>\n",
       "    <tr>\n",
       "      <th>nps_rating</th>\n",
       "      <td>NaN</td>\n",
       "      <td>NaN</td>\n",
       "      <td>NaN</td>\n",
       "    </tr>\n",
       "    <tr>\n",
       "      <th>source</th>\n",
       "      <td>WEBSITE</td>\n",
       "      <td>WEBSITE</td>\n",
       "      <td>WEBSITE</td>\n",
       "    </tr>\n",
       "    <tr>\n",
       "      <th>is_reported</th>\n",
       "      <td>False</td>\n",
       "      <td>False</td>\n",
       "      <td>False</td>\n",
       "    </tr>\n",
       "    <tr>\n",
       "      <th>business_reporting</th>\n",
       "      <td>None</td>\n",
       "      <td>None</td>\n",
       "      <td>None</td>\n",
       "    </tr>\n",
       "    <tr>\n",
       "      <th>author_created_date</th>\n",
       "      <td>2017-01-13</td>\n",
       "      <td>2020-05-22</td>\n",
       "      <td>2022-12-21</td>\n",
       "    </tr>\n",
       "    <tr>\n",
       "      <th>author_total_reviews_count</th>\n",
       "      <td>20</td>\n",
       "      <td>3</td>\n",
       "      <td>2</td>\n",
       "    </tr>\n",
       "    <tr>\n",
       "      <th>attachments</th>\n",
       "      <td>[]</td>\n",
       "      <td>[]</td>\n",
       "      <td>[]</td>\n",
       "    </tr>\n",
       "    <tr>\n",
       "      <th>business</th>\n",
       "      <td>vodacom</td>\n",
       "      <td>vodacom</td>\n",
       "      <td>vodacom</td>\n",
       "    </tr>\n",
       "  </tbody>\n",
       "</table>\n",
       "</div>"
      ],
      "text/plain": [
       "                                                                            0  \\\n",
       "id                                                                    4527127   \n",
       "user_id                                  320a79a8-31fa-11e8-83f4-f23c91bb6188   \n",
       "created_at                                                2023-07-24 14:01:29   \n",
       "authorDisplayName                                                  Simphiwe N   \n",
       "author                                                             Simphiwe N   \n",
       "authorAvatar                                                                    \n",
       "author_id                                320a79a8-31fa-11e8-83f4-f23c91bb6188   \n",
       "review_title                Out of bundle data eating up my airtime even a...   \n",
       "review_rating                                                               1   \n",
       "review_content              Out of bundle services stopped working after I...   \n",
       "business_name                                                         Vodacom   \n",
       "business_slug                                                         vodacom   \n",
       "permalink                   out-of-bundle-data-eating-up-my-airtime-even-a...   \n",
       "replied                                                                 False   \n",
       "messages                                                                   []   \n",
       "business_logo               https://s3-us-west-2.amazonaws.com/hp-cdn-01/u...   \n",
       "industry_logo               /static/img/industries/icons/telecommunication...   \n",
       "industry_name                                              Telecommunications   \n",
       "industry_slug                                              telecommunications   \n",
       "status_id                                                                   1   \n",
       "nps_rating                                                                NaN   \n",
       "source                                                                WEBSITE   \n",
       "is_reported                                                             False   \n",
       "business_reporting                                                       None   \n",
       "author_created_date                                                2017-01-13   \n",
       "author_total_reviews_count                                                 20   \n",
       "attachments                                                                []   \n",
       "business                                                              vodacom   \n",
       "\n",
       "                                                                            1  \\\n",
       "id                                                                    4527105   \n",
       "user_id                                  6a44e350-9c25-11ea-9513-4b6a247180c8   \n",
       "created_at                                                2023-07-24 13:53:40   \n",
       "authorDisplayName                                                     erika H   \n",
       "author                                                                erika H   \n",
       "authorAvatar                                                                    \n",
       "author_id                                6a44e350-9c25-11ea-9513-4b6a247180c8   \n",
       "review_title                                         worst service - Vodacom.   \n",
       "review_rating                                                               1   \n",
       "review_content              I have been a customer of Vodacom for more tha...   \n",
       "business_name                                                         Vodacom   \n",
       "business_slug                                                         vodacom   \n",
       "permalink                   worst-service-vodacom-7437f3f707363ec746b86eb2...   \n",
       "replied                                                                  True   \n",
       "messages                    [{'body': '<div>Dear Customer,&nbsp;</div><div...   \n",
       "business_logo               https://s3-us-west-2.amazonaws.com/hp-cdn-01/u...   \n",
       "industry_logo               /static/img/industries/icons/telecommunication...   \n",
       "industry_name                                              Telecommunications   \n",
       "industry_slug                                              telecommunications   \n",
       "status_id                                                                   1   \n",
       "nps_rating                                                                NaN   \n",
       "source                                                                WEBSITE   \n",
       "is_reported                                                             False   \n",
       "business_reporting                                                       None   \n",
       "author_created_date                                                2020-05-22   \n",
       "author_total_reviews_count                                                  3   \n",
       "attachments                                                                []   \n",
       "business                                                              vodacom   \n",
       "\n",
       "                                                                            2  \n",
       "id                                                                    4526994  \n",
       "user_id                                  2ad8a520-811e-11ed-9e3d-2143ef18dbd4  \n",
       "created_at                                                2023-07-24 13:10:31  \n",
       "authorDisplayName                                                   Eulanda M  \n",
       "author                                                              Eulanda M  \n",
       "authorAvatar                                                                   \n",
       "author_id                                2ad8a520-811e-11ed-9e3d-2143ef18dbd4  \n",
       "review_title                                Cancel Vodacom contract please. 😒  \n",
       "review_rating                                                               1  \n",
       "review_content              Now that Vodacom com collected  the router. No...  \n",
       "business_name                                                         Vodacom  \n",
       "business_slug                                                         vodacom  \n",
       "permalink                              cancel-vodacom-contract-please-4526994  \n",
       "replied                                                                  True  \n",
       "messages                    [{'body': '<div>Dear Customer,&nbsp;</div><div...  \n",
       "business_logo               https://s3-us-west-2.amazonaws.com/hp-cdn-01/u...  \n",
       "industry_logo               /static/img/industries/icons/telecommunication...  \n",
       "industry_name                                              Telecommunications  \n",
       "industry_slug                                              telecommunications  \n",
       "status_id                                                                   1  \n",
       "nps_rating                                                                NaN  \n",
       "source                                                                WEBSITE  \n",
       "is_reported                                                             False  \n",
       "business_reporting                                                       None  \n",
       "author_created_date                                                2022-12-21  \n",
       "author_total_reviews_count                                                  2  \n",
       "attachments                                                                []  \n",
       "business                                                              vodacom  "
      ]
     },
     "metadata": {},
     "output_type": "display_data"
    }
   ],
   "source": [
    "df_source = pd.read_parquet(f'{data_path}/{source_file}')\n",
    "\n",
    "print(df_source.shape)\n",
    "with pd.option_context('display.max_columns', None):\n",
    "    display(df_source.head(3).T)   "
   ]
  },
  {
   "cell_type": "markdown",
   "metadata": {},
   "source": [
    "## Feature Selection\n",
    "\n",
    "Only the id, title, and content of the review will be used in this project.  "
   ]
  },
  {
   "cell_type": "code",
   "execution_count": 4,
   "metadata": {},
   "outputs": [
    {
     "name": "stdout",
     "output_type": "stream",
     "text": [
      "(93880, 5)\n"
     ]
    },
    {
     "data": {
      "text/html": [
       "<div>\n",
       "<style scoped>\n",
       "    .dataframe tbody tr th:only-of-type {\n",
       "        vertical-align: middle;\n",
       "    }\n",
       "\n",
       "    .dataframe tbody tr th {\n",
       "        vertical-align: top;\n",
       "    }\n",
       "\n",
       "    .dataframe thead th {\n",
       "        text-align: right;\n",
       "    }\n",
       "</style>\n",
       "<table border=\"1\" class=\"dataframe\">\n",
       "  <thead>\n",
       "    <tr style=\"text-align: right;\">\n",
       "      <th></th>\n",
       "      <th>id</th>\n",
       "      <th>created_at</th>\n",
       "      <th>review_title</th>\n",
       "      <th>review_content</th>\n",
       "      <th>business</th>\n",
       "    </tr>\n",
       "  </thead>\n",
       "  <tbody>\n",
       "    <tr>\n",
       "      <th>0</th>\n",
       "      <td>4527127</td>\n",
       "      <td>2023-07-24 14:01:29</td>\n",
       "      <td>Out of bundle data eating up my airtime even after stopping it on many years ago.</td>\n",
       "      <td>Out of bundle services stopped working after I did my simswap meaning airtime was being used for internet services after loading airtime. I only found this out because my airtime was just vanishing without me using it. I just called the call centre and they confirmed that it was the out of bundle setting that is causing this. I then point out that even though I did a SimSwap I am still using the same number I had set the out of bundle setting to stop using my airtime for internet services so I do not understand how a simswap affects settings in place on a long existing number. I did not change numbers, I changed simcards and the out of bundle setting is done on the NUMBER not the simcard so it makes no sense to me how a simswap affects the settings in place on my number. To be clear, I called vodacom many moons ago and told them, please stop using my airtime for data services and they stopped it, things were fine for many years until the current simswap was done. My argument here is why should a simswap matter cause the setting is done on the number and not on the simcard. So it makes no sense that a simswap resets everything. Even if it does the history on my number shows what settings are in place linked to my number. I would like my airtime used for data services replenished since I did my simswap. I have wifi at home and there is no reason why my airtime would be used for data services.\\n\\nFurthermore what led to me doing a simswap is that my number simply stopped working, I could not make or receive calls. The last time this happened I had received a call from a person claiming to be from VODACOM. The person told me that someone did a simswap on my number and I need to switch off my phone for 2 hours in order for them to block the simswap from happening. In turned out the person was not from vodacom and me switch off my phone for 2 hours is actually what made the Simswap happen. I queried this and I did not get meaningful information from Vodacom. I queried again today and the day I made the SimSwap and nobody can explain to me what keeps happening to my number. I need an explanation as to why my number would just randomly stop working.\\n\\nMy simcard has not been taken out of my phone this whole year so there is not damage that happened to it as it was tucked into the simcard slot the whole time. I very frustrated because clearly there is ******** activities happening on my number and it's leaving a bad taste in my mouth cause vodacom has no answers. I also tried to speak to your support on twitter and they too could not help. It's like nobody has any knowledge of anything.</td>\n",
       "      <td>vodacom</td>\n",
       "    </tr>\n",
       "    <tr>\n",
       "      <th>1</th>\n",
       "      <td>4527105</td>\n",
       "      <td>2023-07-24 13:53:40</td>\n",
       "      <td>worst service - Vodacom.</td>\n",
       "      <td>I have been a customer of Vodacom for more than 30 years.  never was a payment skipped.  I have 4 contracts with them.  I have been trying to upgrade my phone without any success.  time and money wasted every minute trying to sort this out!!\\n\\nI got married in 2020,  i changed my surname at the Vodacom shop in Secunda.\\nin 2023 I had to upgrade my wifi which i did but for some reason I had to travel 50 km to Vodacom Woodlands in Pretoria because Anita phoned me and said I need to come in.  I then changed my surname with her.\\n\\nI have to upgrade an phone and first Anita gave me the incorrect information and promised a phone I cannot have.  my upgrade was done over the phone, but RAM refused to give the telephone to me as my surname is still not changed on the system.\\n\\ni changed my surname 2 x  in the last two week.  still not updated with Vodacom so i cannot have my phone.  In the meantime I have to sit with the inconvenience.\\nI gave RAM a copy of my marriage certificate as well as a certified copy of my original ID and it was not good enough.  \\n\\nI want to cancel everything with Vodacom but then I have to pay penalties!!!!  for a service I am not getting anyway!!!\\n\\nNobody can sort this out for me.  is this the way to treat a customer that has been with the company for such a long time???</td>\n",
       "      <td>vodacom</td>\n",
       "    </tr>\n",
       "  </tbody>\n",
       "</table>\n",
       "</div>"
      ],
      "text/plain": [
       "        id          created_at  \\\n",
       "0  4527127 2023-07-24 14:01:29   \n",
       "1  4527105 2023-07-24 13:53:40   \n",
       "\n",
       "                                                                        review_title  \\\n",
       "0  Out of bundle data eating up my airtime even after stopping it on many years ago.   \n",
       "1                                                           worst service - Vodacom.   \n",
       "\n",
       "                                                                                                                                                                                                                                                                                                                                                                                                                                                                                                                                                                                                                                                                                                                                                                                                                                                                                                                                                                                                                                                                                                                                                                                                                                                                                                                                                                                                                                                                                                                                                                                                                                                                                                                                                                                                                                                                                                                                                                                                                                                                                                                                                                                                                                                                                                                                                                                                                                                                                                                                                                                                                                                                                                                      review_content  \\\n",
       "0  Out of bundle services stopped working after I did my simswap meaning airtime was being used for internet services after loading airtime. I only found this out because my airtime was just vanishing without me using it. I just called the call centre and they confirmed that it was the out of bundle setting that is causing this. I then point out that even though I did a SimSwap I am still using the same number I had set the out of bundle setting to stop using my airtime for internet services so I do not understand how a simswap affects settings in place on a long existing number. I did not change numbers, I changed simcards and the out of bundle setting is done on the NUMBER not the simcard so it makes no sense to me how a simswap affects the settings in place on my number. To be clear, I called vodacom many moons ago and told them, please stop using my airtime for data services and they stopped it, things were fine for many years until the current simswap was done. My argument here is why should a simswap matter cause the setting is done on the number and not on the simcard. So it makes no sense that a simswap resets everything. Even if it does the history on my number shows what settings are in place linked to my number. I would like my airtime used for data services replenished since I did my simswap. I have wifi at home and there is no reason why my airtime would be used for data services.\\n\\nFurthermore what led to me doing a simswap is that my number simply stopped working, I could not make or receive calls. The last time this happened I had received a call from a person claiming to be from VODACOM. The person told me that someone did a simswap on my number and I need to switch off my phone for 2 hours in order for them to block the simswap from happening. In turned out the person was not from vodacom and me switch off my phone for 2 hours is actually what made the Simswap happen. I queried this and I did not get meaningful information from Vodacom. I queried again today and the day I made the SimSwap and nobody can explain to me what keeps happening to my number. I need an explanation as to why my number would just randomly stop working.\\n\\nMy simcard has not been taken out of my phone this whole year so there is not damage that happened to it as it was tucked into the simcard slot the whole time. I very frustrated because clearly there is ******** activities happening on my number and it's leaving a bad taste in my mouth cause vodacom has no answers. I also tried to speak to your support on twitter and they too could not help. It's like nobody has any knowledge of anything.   \n",
       "1                                                                                                                                                                                                                                                                                                                                                                                                                                                                                                                                                                                                                                                                                                                                                                                                                                                                                                                                                                                                                                                                                                                                                                                                                                                                                                                                                               I have been a customer of Vodacom for more than 30 years.  never was a payment skipped.  I have 4 contracts with them.  I have been trying to upgrade my phone without any success.  time and money wasted every minute trying to sort this out!!\\n\\nI got married in 2020,  i changed my surname at the Vodacom shop in Secunda.\\nin 2023 I had to upgrade my wifi which i did but for some reason I had to travel 50 km to Vodacom Woodlands in Pretoria because Anita phoned me and said I need to come in.  I then changed my surname with her.\\n\\nI have to upgrade an phone and first Anita gave me the incorrect information and promised a phone I cannot have.  my upgrade was done over the phone, but RAM refused to give the telephone to me as my surname is still not changed on the system.\\n\\ni changed my surname 2 x  in the last two week.  still not updated with Vodacom so i cannot have my phone.  In the meantime I have to sit with the inconvenience.\\nI gave RAM a copy of my marriage certificate as well as a certified copy of my original ID and it was not good enough.  \\n\\nI want to cancel everything with Vodacom but then I have to pay penalties!!!!  for a service I am not getting anyway!!!\\n\\nNobody can sort this out for me.  is this the way to treat a customer that has been with the company for such a long time???   \n",
       "\n",
       "  business  \n",
       "0  vodacom  \n",
       "1  vodacom  "
      ]
     },
     "metadata": {},
     "output_type": "display_data"
    }
   ],
   "source": [
    "features = [\n",
    "    'id',\n",
    "    'created_at',\n",
    "    'review_title',\n",
    "    'review_content',\n",
    "    'business'\n",
    "]\n",
    "\n",
    "df_features = df_source[features].copy()\n",
    "\n",
    "print(df_features.shape)\n",
    "with pd.option_context('display.max_columns', None, 'display.max_colwidth', None):\n",
    "    display(df_features.head(2))"
   ]
  },
  {
   "cell_type": "code",
   "execution_count": 5,
   "metadata": {},
   "outputs": [
    {
     "name": "stdout",
     "output_type": "stream",
     "text": [
      "(93425, 5)\n"
     ]
    }
   ],
   "source": [
    "# drop duplicates\n",
    "df_features = df_features.drop_duplicates(subset='review_content')\n",
    "print(df_features.shape)"
   ]
  },
  {
   "cell_type": "markdown",
   "metadata": {},
   "source": [
    "## Business Selection\n",
    "\n",
    "For this analysis, we will focus on `Vodacom`. "
   ]
  },
  {
   "cell_type": "code",
   "execution_count": 6,
   "metadata": {},
   "outputs": [
    {
     "name": "stdout",
     "output_type": "stream",
     "text": [
      "(30293, 5)\n"
     ]
    }
   ],
   "source": [
    "df_selected = df_features[df_features['business'] == 'vodacom'].copy()\n",
    "print(df_selected.shape)"
   ]
  },
  {
   "cell_type": "markdown",
   "metadata": {},
   "source": [
    "## Data Range\n",
    "\n",
    "Select the last 6 months of 2022 and the first 6 months of 2023."
   ]
  },
  {
   "cell_type": "code",
   "execution_count": 7,
   "metadata": {},
   "outputs": [
    {
     "name": "stdout",
     "output_type": "stream",
     "text": [
      "2021-01-01 03:54:20 to 2023-07-24 14:01:29\n"
     ]
    }
   ],
   "source": [
    "# display the available date range\n",
    "print(df_selected['created_at'].min(), 'to', df_selected['created_at'].max())"
   ]
  },
  {
   "cell_type": "code",
   "execution_count": 8,
   "metadata": {},
   "outputs": [
    {
     "name": "stdout",
     "output_type": "stream",
     "text": [
      "(11206, 5)\n",
      "2022-06-01 01:46:16 to 2023-06-30 23:15:55\n"
     ]
    }
   ],
   "source": [
    "# select the last 6 months of 2022 and the first 6 months of 2023\n",
    "df_date_range = df_selected[df_selected['created_at'].between('2022-06-01', '2023-07-01')].copy()\n",
    "print(df_date_range.shape)\n",
    "\n",
    "# display the available date range\n",
    "print(df_date_range['created_at'].min(), 'to', df_date_range['created_at'].max())"
   ]
  },
  {
   "cell_type": "markdown",
   "metadata": {},
   "source": [
    "## Review Length\n",
    "\n",
    "Filter very short and very long reviews."
   ]
  },
  {
   "cell_type": "code",
   "execution_count": 9,
   "metadata": {},
   "outputs": [
    {
     "name": "stdout",
     "output_type": "stream",
     "text": [
      "count    11206.000000\n",
      "mean       141.886489\n",
      "std        128.430396\n",
      "min          2.000000\n",
      "25%         65.000000\n",
      "50%        106.000000\n",
      "75%        176.000000\n",
      "max       2021.000000\n",
      "Name: review_word_count, dtype: float64\n"
     ]
    },
    {
     "data": {
      "image/png": "[encoded data removed]",
      "text/plain": [
       "<Figure size 640x480 with 1 Axes>"
      ]
     },
     "metadata": {},
     "output_type": "display_data"
    }
   ],
   "source": [
    "# add a review word count column\n",
    "df_date_range['review_word_count'] = \\\n",
    "    df_date_range['review_title'].str.split().str.len() + \\\n",
    "    df_date_range['review_content'].str.split().str.len()\n",
    "\n",
    "\n",
    "# display the distribution of the review_content_length\n",
    "print(df_date_range['review_word_count'].describe())\n",
    "\n",
    "# plot the distribution of the review_content_length\n",
    "df_date_range['review_word_count'].plot(kind='box')\n",
    "plt.show()"
   ]
  },
  {
   "cell_type": "code",
   "execution_count": 10,
   "metadata": {},
   "outputs": [],
   "source": [
    "# with pd.option_context('display.max_columns', None, 'display.max_colwidth', None):\n",
    "#     display(df_date_range.sort_values(by='review_word_count', ascending=True).head(60))"
   ]
  },
  {
   "cell_type": "code",
   "execution_count": 11,
   "metadata": {},
   "outputs": [
    {
     "name": "stdout",
     "output_type": "stream",
     "text": [
      "count    5218.000000\n",
      "mean       61.502108\n",
      "std        22.947626\n",
      "min        10.000000\n",
      "25%        44.000000\n",
      "50%        63.000000\n",
      "75%        81.000000\n",
      "max       100.000000\n",
      "Name: review_word_count, dtype: float64\n"
     ]
    },
    {
     "data": {
      "text/html": [
       "<div>\n",
       "<style scoped>\n",
       "    .dataframe tbody tr th:only-of-type {\n",
       "        vertical-align: middle;\n",
       "    }\n",
       "\n",
       "    .dataframe tbody tr th {\n",
       "        vertical-align: top;\n",
       "    }\n",
       "\n",
       "    .dataframe thead th {\n",
       "        text-align: right;\n",
       "    }\n",
       "</style>\n",
       "<table border=\"1\" class=\"dataframe\">\n",
       "  <thead>\n",
       "    <tr style=\"text-align: right;\">\n",
       "      <th></th>\n",
       "      <th>id</th>\n",
       "      <th>created_at</th>\n",
       "      <th>review_title</th>\n",
       "      <th>review_content</th>\n",
       "      <th>business</th>\n",
       "      <th>review_word_count</th>\n",
       "    </tr>\n",
       "  </thead>\n",
       "  <tbody>\n",
       "    <tr>\n",
       "      <th>3902</th>\n",
       "      <td>4303128</td>\n",
       "      <td>2023-02-14 13:13:24</td>\n",
       "      <td>Harassment, poor service, no customers service</td>\n",
       "      <td>So I still haven't gotten a response from you guys regarding the cancelation of my contract and now I'm paying a bill of R1250 this month. Plus you have the audacity to let your call centre call me constantly to sell me things, that sound so fabulous but then you get trapped into contracts.. That you believe can be cancelled at anytime. Please remove my name from your data base for sales. As my contracts will be canceled shortly with you.</td>\n",
       "      <td>vodacom</td>\n",
       "      <td>87</td>\n",
       "    </tr>\n",
       "    <tr>\n",
       "      <th>11066</th>\n",
       "      <td>3988077</td>\n",
       "      <td>2022-06-29 08:15:08</td>\n",
       "      <td>Pethethic Customer Service</td>\n",
       "      <td>I bought a phone online, they gave it to RAM to deliver, RAm did not deliver and returned it back to Vodacom. Since then I have been fighting Vodacom to please update me as to how a I going to get my phone or my refund if  they don't deliver in my area. They just went quiet, been sending them numerous emails. Such a poor customer service. I really regret wasting my money on them.</td>\n",
       "      <td>vodacom</td>\n",
       "      <td>78</td>\n",
       "    </tr>\n",
       "    <tr>\n",
       "      <th>767</th>\n",
       "      <td>4480775</td>\n",
       "      <td>2023-06-23 11:49:01</td>\n",
       "      <td>Waiting too long</td>\n",
       "      <td>I have done an upgrade on my account at Vodacom East Rand Mall, they said that I would receive the Samsung Watch 4 free with my upgrade, this was on 7 June already, whenever I call they have not got stock, when will stock be available.</td>\n",
       "      <td>vodacom</td>\n",
       "      <td>49</td>\n",
       "    </tr>\n",
       "    <tr>\n",
       "      <th>8278</th>\n",
       "      <td>4113137</td>\n",
       "      <td>2022-09-29 19:51:36</td>\n",
       "      <td>Vodacom Sales Fraud</td>\n",
       "      <td>Vodavom has opened an account using my business number and email address.\\n\\nThe number has currently being deleted as I refused to pay for a contract I never used,due to that I am unable to access my email address.\\n\\nThe person that has been allocated my number has access to all my personal data on that number an email.</td>\n",
       "      <td>vodacom</td>\n",
       "      <td>62</td>\n",
       "    </tr>\n",
       "    <tr>\n",
       "      <th>8598</th>\n",
       "      <td>4097511</td>\n",
       "      <td>2022-09-18 08:38:15</td>\n",
       "      <td>Disgruntled customer</td>\n",
       "      <td>I am very disappointed with the level of service I got from Vodacom fibre and some of their consultants. So I paid my Vodacom fibre in store as I was advices by one of their consultant than they sent a message and an email telling me that they got my payment. Little I know it was a different story and I still didn’t get my internet and I can’t get my money back.</td>\n",
       "      <td>vodacom</td>\n",
       "      <td>75</td>\n",
       "    </tr>\n",
       "  </tbody>\n",
       "</table>\n",
       "</div>"
      ],
      "text/plain": [
       "            id          created_at  \\\n",
       "3902   4303128 2023-02-14 13:13:24   \n",
       "11066  3988077 2022-06-29 08:15:08   \n",
       "767    4480775 2023-06-23 11:49:01   \n",
       "8278   4113137 2022-09-29 19:51:36   \n",
       "8598   4097511 2022-09-18 08:38:15   \n",
       "\n",
       "                                         review_title  \\\n",
       "3902   Harassment, poor service, no customers service   \n",
       "11066                      Pethethic Customer Service   \n",
       "767                                  Waiting too long   \n",
       "8278                              Vodacom Sales Fraud   \n",
       "8598                             Disgruntled customer   \n",
       "\n",
       "                                                                                                                                                                                                                                                                                                                                                                                                                                                   review_content  \\\n",
       "3902   So I still haven't gotten a response from you guys regarding the cancelation of my contract and now I'm paying a bill of R1250 this month. Plus you have the audacity to let your call centre call me constantly to sell me things, that sound so fabulous but then you get trapped into contracts.. That you believe can be cancelled at anytime. Please remove my name from your data base for sales. As my contracts will be canceled shortly with you.   \n",
       "11066                                                              I bought a phone online, they gave it to RAM to deliver, RAm did not deliver and returned it back to Vodacom. Since then I have been fighting Vodacom to please update me as to how a I going to get my phone or my refund if  they don't deliver in my area. They just went quiet, been sending them numerous emails. Such a poor customer service. I really regret wasting my money on them.   \n",
       "767                                                                                                                                                                                                                   I have done an upgrade on my account at Vodacom East Rand Mall, they said that I would receive the Samsung Watch 4 free with my upgrade, this was on 7 June already, whenever I call they have not got stock, when will stock be available.   \n",
       "8278                                                                                                                          Vodavom has opened an account using my business number and email address.\\n\\nThe number has currently being deleted as I refused to pay for a contract I never used,due to that I am unable to access my email address.\\n\\nThe person that has been allocated my number has access to all my personal data on that number an email.   \n",
       "8598                                                                                 I am very disappointed with the level of service I got from Vodacom fibre and some of their consultants. So I paid my Vodacom fibre in store as I was advices by one of their consultant than they sent a message and an email telling me that they got my payment. Little I know it was a different story and I still didn’t get my internet and I can’t get my money back.   \n",
       "\n",
       "      business  review_word_count  \n",
       "3902   vodacom                 87  \n",
       "11066  vodacom                 78  \n",
       "767    vodacom                 49  \n",
       "8278   vodacom                 62  \n",
       "8598   vodacom                 75  "
      ]
     },
     "metadata": {},
     "output_type": "display_data"
    }
   ],
   "source": [
    "# select reviews between 10 and 1200 words\n",
    "df_limited = df_date_range[df_date_range['review_word_count'] \\\n",
    "    .between(10, 100, inclusive='both')].copy()\n",
    "\n",
    "# display the distribution of the review_word_count\n",
    "print(df_limited['review_word_count'].describe())\n",
    "\n",
    "with pd.option_context('display.max_columns', None, 'display.max_colwidth', None):\n",
    "    display(df_limited.sample(5))"
   ]
  },
  {
   "cell_type": "markdown",
   "metadata": {},
   "source": [
    "## Save the selected data"
   ]
  },
  {
   "cell_type": "code",
   "execution_count": 12,
   "metadata": {},
   "outputs": [],
   "source": [
    "# select only the features needed for classification\n",
    "selected_features = [\n",
    "    'id',\n",
    "    'review_title',\n",
    "    'review_content'\n",
    "]\n",
    "\n",
    "# select the features\n",
    "df_out = df_limited[selected_features].copy()\n",
    "\n",
    "# save the output\n",
    "df_out.to_parquet(f'{data_path}/00-01_vodacom_selected_reviews.parquet.gz', index=False, compression='gzip')"
   ]
  }
 ],
 "metadata": {
  "kernelspec": {
   "display_name": "Python 3",
   "language": "python",
   "name": "python3"
  },
  "language_info": {
   "codemirror_mode": {
    "name": "ipython",
    "version": 3
   },
   "file_extension": ".py",
   "mimetype": "text/x-python",
   "name": "python",
   "nbconvert_exporter": "python",
   "pygments_lexer": "ipython3",
   "version": "3.10.13"
  }
 },
 "nbformat": 4,
 "nbformat_minor": 2
}
